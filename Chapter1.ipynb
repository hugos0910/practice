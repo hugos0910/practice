{
 "cells": [
  {
   "cell_type": "markdown",
   "metadata": {},
   "source": [
    "# 1.1"
   ]
  },
  {
   "cell_type": "code",
   "execution_count": 39,
   "metadata": {
    "collapsed": false
   },
   "outputs": [
    {
     "name": "stdout",
     "output_type": "stream",
     "text": [
      "True\n",
      "False\n"
     ]
    }
   ],
   "source": [
    "#20 minutes, I realized this is still cheating afterwards\n",
    "def unique_char(string):\n",
    "    c1 = [0]\n",
    "    empty = False\n",
    "    string = list(string)\n",
    "    while len(string) != 0:\n",
    "        if string[-1] not in string[:-1]: string.pop()\n",
    "        else: return False\n",
    "    return True\n",
    "\n",
    "# I re-did this after 1.3, finished in 5 minutes\n",
    "def unique_char2(string):\n",
    "    c = [0]*256\n",
    "    for i in range(len(string)):\n",
    "        c[ord(string[i]) - ord('\\x00')] += 1\n",
    "    for i in range(len(c)):\n",
    "        if c[i] > 1: return False\n",
    "    return True\n",
    "\n",
    "print(unique_char2('blah'))\n",
    "print(unique_char2('hello'))\n"
   ]
  },
  {
   "cell_type": "markdown",
   "metadata": {},
   "source": [
    "# 1.3"
   ]
  },
  {
   "cell_type": "code",
   "execution_count": 45,
   "metadata": {
    "collapsed": false
   },
   "outputs": [
    {
     "name": "stdout",
     "output_type": "stream",
     "text": [
      "True\n",
      "False\n"
     ]
    }
   ],
   "source": [
    "# I learned this one before, took me 8 minutes\n",
    "\n",
    "def is_permutation(string1, string2):\n",
    "    if len(string1) != len(string2): return False \n",
    "    \n",
    "    c1 = [0]*256\n",
    "    c2 = [0]*256\n",
    "    \n",
    "    for i in range(0,len(string1)):\n",
    "        c1[ord(string1[i]) - ord('\\x00')] += 1\n",
    "    \n",
    "    for i in range(0,len(string2)):\n",
    "        c2[ord(string2[i]) - ord('\\x00')] += 1\n",
    "    \n",
    "    return c1 == c2\n",
    "print(is_permutation('ab]c3', ']cba3'))\n",
    "print(is_permutation('adf', 'cba'))"
   ]
  },
  {
   "cell_type": "markdown",
   "metadata": {
    "collapsed": false
   },
   "source": [
    "# 1.4"
   ]
  },
  {
   "cell_type": "code",
   "execution_count": 88,
   "metadata": {
    "collapsed": false
   },
   "outputs": [
    {
     "name": "stdout",
     "output_type": "stream",
     "text": [
      "Mr%20John%20Smith\n"
     ]
    }
   ],
   "source": [
    "# Took me 51 minutes.  I can't think of how to do it without using insert and join since I cannot mute string.\n",
    "def space_replacement(string):\n",
    "    c = [0]*len(string)\n",
    "    for i in range(len(string)):\n",
    "        c[i] = ord(string[i])\n",
    "        if c[i] == 32: c[i] = 37\n",
    "    c_copy = c.copy()\n",
    "    count = 0\n",
    "    for i in range(len(c)):\n",
    "        if c[i] == 37: \n",
    "            c_copy.insert(i + count*2 + 1, 50)\n",
    "            c_copy.insert(i + count*2 + 2, 48)\n",
    "            count += 1\n",
    "    char_array = []\n",
    "    for num in c_copy:\n",
    "        char_array.append(chr(num))\n",
    "    return ''.join(char_array)\n",
    "\n",
    "print(space_replacement('Mr John Smith'))"
   ]
  },
  {
   "cell_type": "markdown",
   "metadata": {},
   "source": [
    "# 1.5"
   ]
  },
  {
   "cell_type": "code",
   "execution_count": 127,
   "metadata": {
    "collapsed": false
   },
   "outputs": [
    {
     "name": "stdout",
     "output_type": "stream",
     "text": [
      "abc[[\n",
      "a2b1c5a3\n"
     ]
    }
   ],
   "source": [
    "# 46 minutes\n",
    "\n",
    "def compress_string(string):\n",
    "    new_string = ''\n",
    "    for pos1 in range(len(string)):\n",
    "        if pos1 == 0 or string[pos1] != string[pos1-1]:\n",
    "            count = 1\n",
    "            pos2 = pos1\n",
    "            while pos2 < len(string)-1 and string[pos2] == string[pos2+1]:\n",
    "                count += 1\n",
    "                pos2 += 1\n",
    "            new_string += string[pos1] + str(count)\n",
    "    if len(new_string) >= len(string):\n",
    "        return string\n",
    "    else:\n",
    "        return new_string\n",
    "\n",
    "print(compress_string('abc[['))\n",
    "print(compress_string('aabcccccaaa'))\n",
    "# aabcccccaaa -> a2b1c5a3"
   ]
  },
  {
   "cell_type": "markdown",
   "metadata": {},
   "source": [
    "# 1.7"
   ]
  },
  {
   "cell_type": "code",
   "execution_count": 159,
   "metadata": {
    "collapsed": false
   },
   "outputs": [
    {
     "name": "stdout",
     "output_type": "stream",
     "text": [
      "[(4, 4)]\n",
      "[[1, 2, 3, 4, 0], [6, 7, 8, 9, 0], [11, 12, 13, 14, 0], [16, 17, 18, 19, 0], [0, 0, 0, 0, 0]]\n"
     ]
    }
   ],
   "source": [
    "# Write an algorithm such that if an element in an MxN matrix is 0, its entire row and column are set to 0.\n",
    "\n",
    "# Took me a little over 20 minutes\n",
    "\n",
    "mat = [[1,  2,  3,  4,  5],\n",
    "       [6,  7,  8,  9,  10],\n",
    "       [11, 12, 13, 14, 15],\n",
    "       [16, 17, 18, 19, 20],\n",
    "       [21, 22, 23, 24, 0]]\n",
    "\n",
    "zero_coord = []\n",
    "for i in range(len(mat)):\n",
    "    for j in range(len(mat[i])):\n",
    "        if mat[i][j] == 0:\n",
    "            zero_coord.append((i,j))\n",
    "\n",
    "for i,j in zero_coord:\n",
    "    mat[i] = 5*[0]\n",
    "    for k in range(len(mat)):\n",
    "        mat[k][j] = 0\n",
    "    \n",
    "print(zero_coord)\n",
    "print(mat)"
   ]
  },
  {
   "cell_type": "code",
   "execution_count": null,
   "metadata": {
    "collapsed": true
   },
   "outputs": [],
   "source": []
  },
  {
   "cell_type": "markdown",
   "metadata": {},
   "source": [
    "# 1.8"
   ]
  },
  {
   "cell_type": "code",
   "execution_count": 138,
   "metadata": {
    "collapsed": false
   },
   "outputs": [
    {
     "name": "stdout",
     "output_type": "stream",
     "text": [
      "False\n",
      "True\n"
     ]
    }
   ],
   "source": [
    "# Assume you have a method isSubstring which checks if one word is substring of another.  \n",
    "# Given two strings, s1 and s2, write code to check if s2 is a rotation of s1 using only ONE call to isSubstring.\n",
    "# (e. g. \"waterbottle\" is a rotation of \"erbottlewat\")\n",
    "\n",
    "# I did not get this one, looked at the solution\n",
    "\n",
    "def isSubstring(word1, word2):\n",
    "    return word2 in word1\n",
    "\n",
    "def isRotation(word1, word2):\n",
    "    #print (word1+word1)\n",
    "    return isSubstring(word1+word1, word2)\n",
    "\n",
    "print(isSubstring('waterbottle','erbottlewat'))\n",
    "print(isRotation('waterbottle','erbottlewat'))\n"
   ]
  },
  {
   "cell_type": "code",
   "execution_count": null,
   "metadata": {
    "collapsed": true
   },
   "outputs": [],
   "source": []
  }
 ],
 "metadata": {
  "kernelspec": {
   "display_name": "Python 3",
   "language": "python",
   "name": "python3"
  },
  "language_info": {
   "codemirror_mode": {
    "name": "ipython",
    "version": 3
   },
   "file_extension": ".py",
   "mimetype": "text/x-python",
   "name": "python",
   "nbconvert_exporter": "python",
   "pygments_lexer": "ipython3",
   "version": "3.6.0"
  }
 },
 "nbformat": 4,
 "nbformat_minor": 2
}
